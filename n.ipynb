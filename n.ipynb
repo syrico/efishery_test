{
 "cells": [
  {
   "cell_type": "code",
   "execution_count": 2,
   "metadata": {},
   "outputs": [],
   "source": [
    "import pendulum\n",
    "from datetime import datetime, timedelta\n"
   ]
  },
  {
   "cell_type": "code",
   "execution_count": 6,
   "metadata": {},
   "outputs": [
    {
     "data": {
      "text/plain": [
       "datetime.date(2023, 11, 14)"
      ]
     },
     "execution_count": 6,
     "metadata": {},
     "output_type": "execute_result"
    }
   ],
   "source": [
    "local_tz = pendulum.timezone(\"Asia/Jakarta\")\n",
    "datetime(2023, 11, 14, 8, 0, tzinfo=local_tz).date()"
   ]
  },
  {
   "cell_type": "code",
   "execution_count": 46,
   "metadata": {},
   "outputs": [],
   "source": [
    "from psycopg2 import connect\n",
    "\n",
    "db_con = connect(database='postgres',\n",
    "                user='postgres',\n",
    "                password='polines2015',\n",
    "                port='5432',\n",
    "                host='localhost')\n",
    "\n",
    "cursor = db_con.cursor()\n",
    "\n",
    "sql = open('/home/syrico/airflow/sql/select.sql','r').read() #.splitlines()\n",
    "\n",
    "sql\n",
    "cursor.execute(sql)\n",
    "\n"
   ]
  },
  {
   "cell_type": "code",
   "execution_count": 69,
   "metadata": {},
   "outputs": [
    {
     "data": {
      "text/plain": [
       "['kakap',\n",
       " '2kg',\n",
       " 'lele',\n",
       " '1kg',\n",
       " 'kembung',\n",
       " '1kg',\n",
       " 'tongkol',\n",
       " '1kg',\n",
       " 'salem',\n",
       " '1kg']"
      ]
     },
     "execution_count": 69,
     "metadata": {},
     "output_type": "execute_result"
    }
   ],
   "source": [
    "import json\n",
    "\n",
    "f = open('/home/syrico/airflow/soal-2.json')\n",
    "\n",
    "data = json.load(f)\n",
    "\n",
    "lines =list(data[1].values())\n",
    "\n",
    "lines[1].split()\n"
   ]
  }
 ],
 "metadata": {
  "interpreter": {
   "hash": "62202ddd57567731546e62bef32b42bec968c1e1cca80e20e98389d1175c090f"
  },
  "kernelspec": {
   "display_name": "Python 3.7.5 64-bit ('widya': venv)",
   "language": "python",
   "name": "python3"
  },
  "language_info": {
   "codemirror_mode": {
    "name": "ipython",
    "version": 3
   },
   "file_extension": ".py",
   "mimetype": "text/x-python",
   "name": "python",
   "nbconvert_exporter": "python",
   "pygments_lexer": "ipython3",
   "version": "3.7.5"
  },
  "orig_nbformat": 4
 },
 "nbformat": 4,
 "nbformat_minor": 2
}
